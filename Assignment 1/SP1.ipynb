{
 "cells": [
  {
   "cell_type": "markdown",
   "metadata": {},
   "source": [
    "# Security & Privacy (CC2009) - 2023/2024\n",
    "\n",
    "## ASSIGNMENT #1: Performance Benchmarking of Cryptographic Mechanisms\n",
    "\n",
    "### Due date: March 22, 23:59\n",
    "### Grading: Assignment #1 is worth 2 points"
   ]
  },
  {
   "cell_type": "code",
   "execution_count": 17,
   "metadata": {},
   "outputs": [
    {
     "data": {
      "text/plain": [
       "'Arquivos de texto legíveis gerados com sucesso.'"
      ]
     },
     "execution_count": 17,
     "metadata": {},
     "output_type": "execute_result"
    }
   ],
   "source": [
    "import os\n",
    "import random\n",
    "import string\n",
    "\n",
    "# Define os tamanhos dos arquivos para cada tipo\n",
    "tamanhos_aes = [8, 64, 512, 4096, 32768, 262144, 2097152]\n",
    "tamanhos_sha = [8, 64, 512, 4096, 32768, 262144, 2097152]\n",
    "tamanhos_rsa = [2, 4, 8, 16, 32, 64, 128]\n",
    "\n",
    "# Função para gerar texto aleatório legível\n",
    "def gerar_texto_aleatorio(tamanho):\n",
    "    caracteres = string.ascii_letters + string.digits  # Inclui letras e números\n",
    "    return ''.join(random.choice(caracteres) for _ in range(tamanho))\n",
    "\n",
    "# Função para gerar arquivos de texto com conteúdo legível\n",
    "def gerar_arquivos_texto_aleatorios(tamanhos, prefixo):\n",
    "    for tamanho in tamanhos:\n",
    "        conteudo = gerar_texto_aleatorio(tamanho)\n",
    "        nome_arquivo = rf\"C:\\Users\\Aurora\\Desktop\\2 Ano 2 Semestre\\SP\\Projects\\Assignment 1\\{prefixo}_{tamanho}.txt\"\n",
    "        with open(nome_arquivo, 'w') as arquivo:\n",
    "            arquivo.write(conteudo)\n",
    "\n",
    "# Gerar arquivos para AES, SHA e RSA\n",
    "gerar_arquivos_texto_aleatorios(tamanhos_aes, \"AES\")\n",
    "gerar_arquivos_texto_aleatorios(tamanhos_sha, \"SHA\")\n",
    "gerar_arquivos_texto_aleatorios(tamanhos_rsa, \"RSA\")\n",
    "\n",
    "\"Arquivos de texto legíveis gerados com sucesso.\""
   ]
  },
  {
   "cell_type": "code",
   "execution_count": null,
   "metadata": {},
   "outputs": [],
   "source": []
  }
 ],
 "metadata": {
  "kernelspec": {
   "display_name": "Python 3",
   "language": "python",
   "name": "python3"
  },
  "language_info": {
   "codemirror_mode": {
    "name": "ipython",
    "version": 3
   },
   "file_extension": ".py",
   "mimetype": "text/x-python",
   "name": "python",
   "nbconvert_exporter": "python",
   "pygments_lexer": "ipython3",
   "version": "3.12.2"
  }
 },
 "nbformat": 4,
 "nbformat_minor": 2
}
