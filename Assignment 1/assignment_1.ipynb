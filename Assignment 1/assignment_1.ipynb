{
 "cells": [
  {
   "cell_type": "markdown",
   "metadata": {},
   "source": [
    "# Security and Privacy - Assignment 01"
   ]
  },
  {
   "cell_type": "markdown",
   "metadata": {},
   "source": [
    "# A. Generate random text files with the following sizes: "
   ]
  },
  {
   "cell_type": "markdown",
   "metadata": {},
   "source": [
    "- For AES (in bytes): 8, 64, 512, 4096, 32768, 262144, 2097152\n",
    " - For SHA (in bytes): 8, 64, 512, 4096, 32768, 262144, 2097152\n",
    " - For RSA (in bytes): 2, 4, 8, 16, 32, 64, 128\n",
    "\n"
   ]
  },
  {
   "cell_type": "code",
   "execution_count": 18,
   "metadata": {},
   "outputs": [],
   "source": [
    "import random \n",
    "import string"
   ]
  },
  {
   "cell_type": "code",
   "execution_count": 19,
   "metadata": {},
   "outputs": [],
   "source": [
    "def gerar_texto_aleatorio(tamanho): \n",
    "    caracteres = string.ascii_letters + string.digits #Letras maiúsculas, minúsculas e números\n",
    "    texto = ''.join(random.choice(caracteres) for _ in range(tamanho))\n",
    "    return texto\n",
    "\n",
    "#Exemplo de uso\n"
   ]
  },
  {
   "cell_type": "markdown",
   "metadata": {},
   "source": [
    "# B. Encrypt and decrypt all these files using AES. Employ a key of 256 bits. Measure the time it takes to encrypt and decrypt each of the files. To do this, you might want to use the python module timeit.\n",
    "\n"
   ]
  },
  {
   "cell_type": "markdown",
   "metadata": {},
   "source": [
    "Make sure to produce statistically significant results. Do results change if you run a fixed algorithm over\n",
    "the same file multiple times? And what if you run an algorithm over multiple randomly generated files\n",
    "of fixed size? \n",
    "\n",
    "        Resposta: Ao Implementar-mos o encriptador aes ( Advances Encriyption Standard) temos que ter em atencão o block mode que utilizamos. Os modos dados nas aulas teóricas e práticas foram o ecb, ctr e cbc. Este três diferentes modos têm em consideracão o tamanho o ficheiro, se é possível alterar os bytes e nao perder informacao entre outros fatores. Nós decimos usar o CTR, apesar do impacto da escolha do modo é reduzido."
   ]
  },
  {
   "cell_type": "code",
   "execution_count": 20,
   "metadata": {},
   "outputs": [],
   "source": [
    "from os import urandom\n",
    "import os\n",
    "from binascii import hexlify\n",
    "from cryptography .hazmat. primitives .ciphers import Cipher, algorithms, modes\n",
    "from cryptography .hazmat .primitives  import padding \n",
    "import timeit\n",
    "import matplotlib.pyplot as plt"
   ]
  },
  {
   "cell_type": "markdown",
   "metadata": {},
   "source": [
    "Vamos criar uma funcao para encriptar os ficheireiros gerados anteriormente e ao mesmo tempo, medir o tempo que a encriptacao durou. "
   ]
  },
  {
   "cell_type": "code",
   "execution_count": 29,
   "metadata": {},
   "outputs": [
    {
     "ename": "TypeError",
     "evalue": "object of type '_io.BufferedReader' has no len()",
     "output_type": "error",
     "traceback": [
      "\u001b[1;31m---------------------------------------------------------------------------\u001b[0m",
      "\u001b[1;31mTypeError\u001b[0m                                 Traceback (most recent call last)",
      "Cell \u001b[1;32mIn[29], line 43\u001b[0m\n\u001b[0;32m     39\u001b[0m     \u001b[38;5;28;01mreturn\u001b[39;00m file_names, times \n\u001b[0;32m     41\u001b[0m file_sizes \u001b[38;5;241m=\u001b[39m [\u001b[38;5;241m8\u001b[39m,\u001b[38;5;241m64\u001b[39m,\u001b[38;5;241m512\u001b[39m,\u001b[38;5;241m4096\u001b[39m,\u001b[38;5;241m32768\u001b[39m, \u001b[38;5;241m262144\u001b[39m, \u001b[38;5;241m2097152\u001b[39m]\n\u001b[1;32m---> 43\u001b[0m file_names, times \u001b[38;5;241m=\u001b[39m \u001b[43mencrypt_aes_files\u001b[49m\u001b[43m(\u001b[49m\u001b[43mfile_sizes\u001b[49m\u001b[43m)\u001b[49m\n",
      "Cell \u001b[1;32mIn[29], line 36\u001b[0m, in \u001b[0;36mencrypt_aes_files\u001b[1;34m(file_sizes)\u001b[0m\n\u001b[0;32m     33\u001b[0m     \u001b[38;5;28;01mwith\u001b[39;00m \u001b[38;5;28mopen\u001b[39m(file_name,\u001b[38;5;124m'\u001b[39m\u001b[38;5;124mwb\u001b[39m\u001b[38;5;124m'\u001b[39m) \u001b[38;5;28;01mas\u001b[39;00m f:\n\u001b[0;32m     34\u001b[0m         f\u001b[38;5;241m.\u001b[39mwrite(os\u001b[38;5;241m.\u001b[39murandom(size))\n\u001b[1;32m---> 36\u001b[0m     time_taken \u001b[38;5;241m=\u001b[39m \u001b[43mtimeit\u001b[49m\u001b[38;5;241;43m.\u001b[39;49m\u001b[43mtimeit\u001b[49m\u001b[43m(\u001b[49m\u001b[38;5;28;43;01mlambda\u001b[39;49;00m\u001b[43m:\u001b[49m\u001b[43m \u001b[49m\u001b[43mencryption_aes\u001b[49m\u001b[43m(\u001b[49m\u001b[43mfile_name\u001b[49m\u001b[43m)\u001b[49m\u001b[43m,\u001b[49m\u001b[43m \u001b[49m\u001b[43mnumber\u001b[49m\u001b[43m \u001b[49m\u001b[38;5;241;43m=\u001b[39;49m\u001b[43m \u001b[49m\u001b[38;5;241;43m1\u001b[39;49m\u001b[43m)\u001b[49m\n\u001b[0;32m     37\u001b[0m     times\u001b[38;5;241m.\u001b[39mappend(time_taken)\n\u001b[0;32m     39\u001b[0m \u001b[38;5;28;01mreturn\u001b[39;00m file_names, times\n",
      "File \u001b[1;32mC:\\Program Files\\WindowsApps\\PythonSoftwareFoundation.Python.3.12_3.12.752.0_x64__qbz5n2kfra8p0\\Lib\\timeit.py:237\u001b[0m, in \u001b[0;36mtimeit\u001b[1;34m(stmt, setup, timer, number, globals)\u001b[0m\n\u001b[0;32m    234\u001b[0m \u001b[38;5;28;01mdef\u001b[39;00m \u001b[38;5;21mtimeit\u001b[39m(stmt\u001b[38;5;241m=\u001b[39m\u001b[38;5;124m\"\u001b[39m\u001b[38;5;124mpass\u001b[39m\u001b[38;5;124m\"\u001b[39m, setup\u001b[38;5;241m=\u001b[39m\u001b[38;5;124m\"\u001b[39m\u001b[38;5;124mpass\u001b[39m\u001b[38;5;124m\"\u001b[39m, timer\u001b[38;5;241m=\u001b[39mdefault_timer,\n\u001b[0;32m    235\u001b[0m            number\u001b[38;5;241m=\u001b[39mdefault_number, \u001b[38;5;28mglobals\u001b[39m\u001b[38;5;241m=\u001b[39m\u001b[38;5;28;01mNone\u001b[39;00m):\n\u001b[0;32m    236\u001b[0m \u001b[38;5;250m    \u001b[39m\u001b[38;5;124;03m\"\"\"Convenience function to create Timer object and call timeit method.\"\"\"\u001b[39;00m\n\u001b[1;32m--> 237\u001b[0m     \u001b[38;5;28;01mreturn\u001b[39;00m \u001b[43mTimer\u001b[49m\u001b[43m(\u001b[49m\u001b[43mstmt\u001b[49m\u001b[43m,\u001b[49m\u001b[43m \u001b[49m\u001b[43msetup\u001b[49m\u001b[43m,\u001b[49m\u001b[43m \u001b[49m\u001b[43mtimer\u001b[49m\u001b[43m,\u001b[49m\u001b[43m \u001b[49m\u001b[38;5;28;43mglobals\u001b[39;49m\u001b[43m)\u001b[49m\u001b[38;5;241;43m.\u001b[39;49m\u001b[43mtimeit\u001b[49m\u001b[43m(\u001b[49m\u001b[43mnumber\u001b[49m\u001b[43m)\u001b[49m\n",
      "File \u001b[1;32mC:\\Program Files\\WindowsApps\\PythonSoftwareFoundation.Python.3.12_3.12.752.0_x64__qbz5n2kfra8p0\\Lib\\timeit.py:180\u001b[0m, in \u001b[0;36mTimer.timeit\u001b[1;34m(self, number)\u001b[0m\n\u001b[0;32m    178\u001b[0m gc\u001b[38;5;241m.\u001b[39mdisable()\n\u001b[0;32m    179\u001b[0m \u001b[38;5;28;01mtry\u001b[39;00m:\n\u001b[1;32m--> 180\u001b[0m     timing \u001b[38;5;241m=\u001b[39m \u001b[38;5;28;43mself\u001b[39;49m\u001b[38;5;241;43m.\u001b[39;49m\u001b[43minner\u001b[49m\u001b[43m(\u001b[49m\u001b[43mit\u001b[49m\u001b[43m,\u001b[49m\u001b[43m \u001b[49m\u001b[38;5;28;43mself\u001b[39;49m\u001b[38;5;241;43m.\u001b[39;49m\u001b[43mtimer\u001b[49m\u001b[43m)\u001b[49m\n\u001b[0;32m    181\u001b[0m \u001b[38;5;28;01mfinally\u001b[39;00m:\n\u001b[0;32m    182\u001b[0m     \u001b[38;5;28;01mif\u001b[39;00m gcold:\n",
      "File \u001b[1;32m<timeit-src>:6\u001b[0m, in \u001b[0;36minner\u001b[1;34m(_it, _timer, _stmt)\u001b[0m\n",
      "Cell \u001b[1;32mIn[29], line 36\u001b[0m, in \u001b[0;36mencrypt_aes_files.<locals>.<lambda>\u001b[1;34m()\u001b[0m\n\u001b[0;32m     33\u001b[0m     \u001b[38;5;28;01mwith\u001b[39;00m \u001b[38;5;28mopen\u001b[39m(file_name,\u001b[38;5;124m'\u001b[39m\u001b[38;5;124mwb\u001b[39m\u001b[38;5;124m'\u001b[39m) \u001b[38;5;28;01mas\u001b[39;00m f:\n\u001b[0;32m     34\u001b[0m         f\u001b[38;5;241m.\u001b[39mwrite(os\u001b[38;5;241m.\u001b[39murandom(size))\n\u001b[1;32m---> 36\u001b[0m     time_taken \u001b[38;5;241m=\u001b[39m timeit\u001b[38;5;241m.\u001b[39mtimeit(\u001b[38;5;28;01mlambda\u001b[39;00m: \u001b[43mencryption_aes\u001b[49m\u001b[43m(\u001b[49m\u001b[43mfile_name\u001b[49m\u001b[43m)\u001b[49m, number \u001b[38;5;241m=\u001b[39m \u001b[38;5;241m1\u001b[39m)\n\u001b[0;32m     37\u001b[0m     times\u001b[38;5;241m.\u001b[39mappend(time_taken)\n\u001b[0;32m     39\u001b[0m \u001b[38;5;28;01mreturn\u001b[39;00m file_names, times\n",
      "Cell \u001b[1;32mIn[29], line 19\u001b[0m, in \u001b[0;36mencryption_aes\u001b[1;34m(files)\u001b[0m\n\u001b[0;32m     15\u001b[0m     file_content \u001b[38;5;241m=\u001b[39m file\u001b[38;5;241m.\u001b[39mread()\n\u001b[0;32m     17\u001b[0m \u001b[38;5;66;03m# Criptografar o texto plano\u001b[39;00m\n\u001b[1;32m---> 19\u001b[0m ct \u001b[38;5;241m=\u001b[39m \u001b[43mencryptor\u001b[49m\u001b[38;5;241;43m.\u001b[39;49m\u001b[43mupdate\u001b[49m\u001b[43m(\u001b[49m\u001b[43mfile\u001b[49m\u001b[43m)\u001b[49m \u001b[38;5;241m+\u001b[39m encryptor\u001b[38;5;241m.\u001b[39mfinalize()\n\u001b[0;32m     21\u001b[0m \u001b[38;5;66;03m#A funcao retorna o conteúdo criptografado, mas vamos focar no tempo de execucao\u001b[39;00m\n\u001b[0;32m     22\u001b[0m \u001b[38;5;28;01mreturn\u001b[39;00m ct\n",
      "File \u001b[1;32m~\\AppData\\Local\\Packages\\PythonSoftwareFoundation.Python.3.12_qbz5n2kfra8p0\\LocalCache\\local-packages\\Python312\\site-packages\\cryptography\\hazmat\\primitives\\ciphers\\base.py:174\u001b[0m, in \u001b[0;36m_CipherContext.update\u001b[1;34m(self, data)\u001b[0m\n\u001b[0;32m    172\u001b[0m \u001b[38;5;28;01mif\u001b[39;00m \u001b[38;5;28mself\u001b[39m\u001b[38;5;241m.\u001b[39m_ctx \u001b[38;5;129;01mis\u001b[39;00m \u001b[38;5;28;01mNone\u001b[39;00m:\n\u001b[0;32m    173\u001b[0m     \u001b[38;5;28;01mraise\u001b[39;00m AlreadyFinalized(\u001b[38;5;124m\"\u001b[39m\u001b[38;5;124mContext was already finalized.\u001b[39m\u001b[38;5;124m\"\u001b[39m)\n\u001b[1;32m--> 174\u001b[0m \u001b[38;5;28;01mreturn\u001b[39;00m \u001b[38;5;28;43mself\u001b[39;49m\u001b[38;5;241;43m.\u001b[39;49m\u001b[43m_ctx\u001b[49m\u001b[38;5;241;43m.\u001b[39;49m\u001b[43mupdate\u001b[49m\u001b[43m(\u001b[49m\u001b[43mdata\u001b[49m\u001b[43m)\u001b[49m\n",
      "File \u001b[1;32m~\\AppData\\Local\\Packages\\PythonSoftwareFoundation.Python.3.12_qbz5n2kfra8p0\\LocalCache\\local-packages\\Python312\\site-packages\\cryptography\\hazmat\\backends\\openssl\\ciphers.py:144\u001b[0m, in \u001b[0;36m_CipherContext.update\u001b[1;34m(self, data)\u001b[0m\n\u001b[0;32m    143\u001b[0m \u001b[38;5;28;01mdef\u001b[39;00m \u001b[38;5;21mupdate\u001b[39m(\u001b[38;5;28mself\u001b[39m, data: \u001b[38;5;28mbytes\u001b[39m) \u001b[38;5;241m-\u001b[39m\u001b[38;5;241m>\u001b[39m \u001b[38;5;28mbytes\u001b[39m:\n\u001b[1;32m--> 144\u001b[0m     buf \u001b[38;5;241m=\u001b[39m \u001b[38;5;28mbytearray\u001b[39m(\u001b[38;5;28;43mlen\u001b[39;49m\u001b[43m(\u001b[49m\u001b[43mdata\u001b[49m\u001b[43m)\u001b[49m \u001b[38;5;241m+\u001b[39m \u001b[38;5;28mself\u001b[39m\u001b[38;5;241m.\u001b[39m_block_size_bytes \u001b[38;5;241m-\u001b[39m \u001b[38;5;241m1\u001b[39m)\n\u001b[0;32m    145\u001b[0m     n \u001b[38;5;241m=\u001b[39m \u001b[38;5;28mself\u001b[39m\u001b[38;5;241m.\u001b[39mupdate_into(data, buf)\n\u001b[0;32m    146\u001b[0m     \u001b[38;5;28;01mreturn\u001b[39;00m \u001b[38;5;28mbytes\u001b[39m(buf[:n])\n",
      "\u001b[1;31mTypeError\u001b[0m: object of type '_io.BufferedReader' has no len()"
     ]
    }
   ],
   "source": [
    "def encryption_aes(files): \n",
    "    # Gerar a chave e o vetor v\n",
    "\n",
    "    # 256 bits = 32 bytes\n",
    "\n",
    "    key = urandom(32)\n",
    "    iv = urandom(16)\n",
    "\n",
    "    # Gerar a cifra\n",
    "\n",
    "    cipher = Cipher(algorithms.AES(key), modes.CBC(iv))\n",
    "\n",
    "    encryptor = cipher.encryptor()\n",
    "    with open(files, 'rb') as file:  # Certifique-se de abrir no modo de leitura binária\n",
    "        file_content = file.read()\n",
    "\n",
    "    # Criptografar o texto plano\n",
    "\n",
    "    ct = encryptor.update(file) + encryptor.finalize() \n",
    "\n",
    "    #A funcao retorna o conteúdo criptografado, mas vamos focar no tempo de execucao\n",
    "    return ct \n",
    "\n",
    "def encrypt_aes_files(file_sizes):\n",
    "    times = []\n",
    "    file_names = [] \n",
    "\n",
    "    for size in file_sizes: \n",
    "        file_name = f\"AES_{size}.txt\"\n",
    "        file_names.append(file_name)\n",
    "\n",
    "        #Gerar o conteúdo aleatório e escrever no arquivo\n",
    "        with open(file_name,'wb') as f:\n",
    "            f.write(os.urandom(size))\n",
    "\n",
    "        time_taken = timeit.timeit(lambda: encryption_aes(file_name), number = 1)\n",
    "        times.append(time_taken)\n",
    "\n",
    "    return file_names, times \n",
    "\n",
    "file_sizes = [8,64,512,4096,32768, 262144, 2097152]\n",
    "\n",
    "file_names, times = encrypt_aes_files(file_sizes)\n",
    "\n",
    "\n"
   ]
  },
  {
   "cell_type": "code",
   "execution_count": null,
   "metadata": {},
   "outputs": [],
   "source": []
  },
  {
   "cell_type": "code",
   "execution_count": null,
   "metadata": {},
   "outputs": [],
   "source": []
  }
 ],
 "metadata": {
  "kernelspec": {
   "display_name": "Python 3",
   "language": "python",
   "name": "python3"
  },
  "language_info": {
   "codemirror_mode": {
    "name": "ipython",
    "version": 3
   },
   "file_extension": ".py",
   "mimetype": "text/x-python",
   "name": "python",
   "nbconvert_exporter": "python",
   "pygments_lexer": "ipython3",
   "version": "3.12.2"
  }
 },
 "nbformat": 4,
 "nbformat_minor": 2
}
