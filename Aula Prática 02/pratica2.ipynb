{
 "cells": [
  {
   "cell_type": "code",
   "execution_count": 68,
   "metadata": {},
   "outputs": [],
   "source": [
    "import cryptography\n"
   ]
  },
  {
   "cell_type": "markdown",
   "metadata": {},
   "source": [
    "# PL2 : Symmetric Cryptography + Hash Functions & MACs"
   ]
  },
  {
   "cell_type": "markdown",
   "metadata": {},
   "source": [
    "Exercício 1: We can use the python cryptography library (pyca/cryptography) to compute one block with AES \n"
   ]
  },
  {
   "cell_type": "code",
   "execution_count": 97,
   "metadata": {},
   "outputs": [
    {
     "name": "stdout",
     "output_type": "stream",
     "text": [
      "b'2869125513ee10945cfc8fed4efa916f'\n"
     ]
    }
   ],
   "source": [
    "from os import urandom\n",
    "from binascii import hexlify\n",
    "from cryptography .hazmat. primitives .ciphers import Cipher, algorithms, modes\n",
    "key = urandom (16)\n",
    "iv = urandom (16)\n",
    "cipher = Cipher( algorithms .AES(key), modes.ECB ())\n",
    "encryptor = cipher. encryptor ()\n",
    "# What happens i f you don ' t p a s s 16−b y t e i n p u t ?\n",
    "ct = encryptor.update(b\"attack at dawn!!\") + encryptor.finalize()\n",
    "print(hexlify(key))\n",
    "cphFile = open(\"ciphertext.bin\", \"wb\")\n",
    "cphFile.write(ct)\n",
    "cphFile.close ()\n"
   ]
  },
  {
   "cell_type": "markdown",
   "metadata": {},
   "source": [
    "Exercise 2 - We can use openSSL in the console to invest the block"
   ]
  },
  {
   "cell_type": "code",
   "execution_count": 98,
   "metadata": {},
   "outputs": [
    {
     "name": "stdout",
     "output_type": "stream",
     "text": [
      "attack at dawn!!\n"
     ]
    }
   ],
   "source": [
    "!openssl enc -aes-128-ecb -nopad -d -K 2869125513ee10945cfc8fed4efa916f -in ciphertext.bin \n"
   ]
  },
  {
   "cell_type": "markdown",
   "metadata": {},
   "source": []
  },
  {
   "cell_type": "markdown",
   "metadata": {},
   "source": [
    "A inversão funcionou \n"
   ]
  },
  {
   "cell_type": "markdown",
   "metadata": {},
   "source": [
    "Study and understand the options used in this command(run openssl, and then help aes-128-ecb)"
   ]
  },
  {
   "cell_type": "code",
   "execution_count": 53,
   "metadata": {},
   "outputs": [
    {
     "name": "stderr",
     "output_type": "stream",
     "text": [
      "Usage: aes-128-ecb [options]\n",
      "\n",
      "General options:\n",
      " -help               Display this summary\n",
      " -list               List ciphers\n",
      " -ciphers            Alias for -list\n",
      " -e                  Encrypt\n",
      " -d                  Decrypt\n",
      " -p                  Print the iv/key\n",
      " -P                  Print the iv/key and exit\n",
      " -engine val         Use engine, possibly a hardware device\n",
      "\n",
      "Input options:\n",
      " -in infile          Input file\n",
      " -k val              Passphrase\n",
      " -kfile infile       Read passphrase from file\n",
      "\n",
      "Output options:\n",
      " -out outfile        Output file\n",
      " -pass val           Passphrase source\n",
      " -v                  Verbose output\n",
      " -a                  Base64 encode/decode, depending on encryption flag\n",
      " -base64             Same as option -a\n",
      " -A                  Used with -[base64|a] to specify base64 buffer as a single line\n",
      "\n",
      "Encryption options:\n",
      " -nopad              Disable standard block padding\n",
      " -salt               Use salt in the KDF (default)\n",
      " -nosalt             Do not use salt in the KDF\n",
      " -debug              Print debug info\n",
      " -bufsize val        Buffer size\n",
      " -K val              Raw key, in hex\n",
      " -S val              Salt, in hex\n",
      " -iv val             IV in hex\n",
      " -md val             Use specified digest to create a key from the passphrase\n",
      " -iter +int          Specify the iteration count and force the use of PBKDF2\n",
      "                     Default: 10000\n",
      " -pbkdf2             Use password-based key derivation function 2 (PBKDF2)\n",
      "                     Use -iter to change the iteration count from 10000\n",
      " -none               Don't encrypt\n",
      " -saltlen +int       Specify the PBKDF2 salt length (in bytes)\n",
      "                     Default: 16\n",
      " -*                  Any supported cipher\n",
      "\n",
      "Random state options:\n",
      " -rand val           Load the given file(s) into the random number generator\n",
      " -writerand outfile  Write random data to the specified file\n",
      "\n",
      "Provider options:\n",
      " -provider-path val  Provider load path (must be before 'provider' argument if required)\n",
      " -provider val       Provider to load (can be specified multiple times)\n",
      " -propquery val      Property query used when fetching algorithms\n"
     ]
    }
   ],
   "source": [
    "!openssl help aes-128-ecb"
   ]
  },
  {
   "cell_type": "markdown",
   "metadata": {},
   "source": [
    " \n",
    "\n",
    "-aes-128-ecb -> signfica que é um advanced encryption standard, com 128 bits, em que o modo de bloco é Eletronic Codebook(ECB) \n",
    "\n",
    "-nopad -> significa que não há padding (é usados nos casos que estamos a criptogifar dados que já são um múltiplo exato do tamanho do bloco do algoritmo de criptografia,e portanto, não necessitam de \"padding\")\n",
    "\n",
    "-d -> Significa decrypt \n",
    "\n",
    "-K val -> Key e o valor da chave  \n",
    "\n",
    "-in infile -> por um ficheiro para aplicar a chave e o algoritmo "
   ]
  },
  {
   "cell_type": "markdown",
   "metadata": {},
   "source": [
    "3 - Modify the python example above to encrypt a file in CBC mode"
   ]
  },
  {
   "cell_type": "code",
   "execution_count": 72,
   "metadata": {},
   "outputs": [
    {
     "name": "stdout",
     "output_type": "stream",
     "text": [
      "b'2dd9e1fe862c6e63114292f349face2c'\n",
      "b'c681a315f2f02db70463a1808489d52b'\n"
     ]
    }
   ],
   "source": [
    "from os import urandom\n",
    "from binascii import hexlify\n",
    "from cryptography.hazmat.primitives.ciphers import Cipher, algorithms, modes\n",
    "key = urandom(16) #Gerar um chave random de 16 bits\n",
    "iv = urandom(16)\n",
    "cipher = Cipher(algorithms.AES(key), modes.CBC(iv))\n",
    "encryptor = cipher.encryptor()\n",
    "ct = encryptor.update(b\"attack at dawn!!\") + encryptor.finalize()\n",
    "print(hexlify(key))\n",
    "print(hexlify(iv))\n",
    "cphFile = open(\"ciphertext.bin\",\"wb\")\n",
    "cphFile.write(ct)\n",
    "cphFile.close()\n"
   ]
  },
  {
   "cell_type": "markdown",
   "metadata": {},
   "source": [
    "colocamos o modo CBC (Cipher Block Chaining) na linha 6 e coloca-mos como argumento um vetor inicializador gerado automaticamente com 16 bits pela biblioteca os (urandom). \n",
    "O resto permanece igual :) "
   ]
  },
  {
   "cell_type": "markdown",
   "metadata": {},
   "source": [
    "4 - Decrypt the file with OpenSSL and check for success."
   ]
  },
  {
   "cell_type": "markdown",
   "metadata": {},
   "source": [
    "Para decryptar usamos o comando em cima e mudamos o modo"
   ]
  },
  {
   "cell_type": "code",
   "execution_count": 75,
   "metadata": {},
   "outputs": [
    {
     "name": "stdout",
     "output_type": "stream",
     "text": [
      "/\u0003[��ݵk�\n",
      "�\u0001Q�͡\n"
     ]
    }
   ],
   "source": [
    "!openssl enc -aes-128-cbc  -nopad -d -iv c681a315f2f02db70463a1808489d52b -K 2dd9e1fe862c6e63114292f349face2c -in ciphertext.bin "
   ]
  },
  {
   "cell_type": "markdown",
   "metadata": {},
   "source": []
  },
  {
   "cell_type": "markdown",
   "metadata": {},
   "source": []
  },
  {
   "cell_type": "markdown",
   "metadata": {},
   "source": [
    "Como podemos ver falta também o vetor inicializador, pelo que mudaremos o codigo para também dar print ao \"iv\". \n",
    "Mesmo assim, a frase vem com simbolo estranhos e nao como uma string como seria suposto? "
   ]
  },
  {
   "cell_type": "markdown",
   "metadata": {},
   "source": [
    "5 - Edit the file to change the value of(but not delete!) one byte and decrypt again. You can use ghex editor in Linux  or equivelent."
   ]
  },
  {
   "cell_type": "markdown",
   "metadata": {},
   "source": [
    "Já alteramos um byte, agora vamos ver se funciona. "
   ]
  },
  {
   "cell_type": "code",
   "execution_count": 74,
   "metadata": {},
   "outputs": [
    {
     "name": "stdout",
     "output_type": "stream",
     "text": [
      "����{�o\t7ݑWl��\u0016\n"
     ]
    }
   ],
   "source": [
    "!openssl enc -aes-128-cbc -nopad -d -iv aa4e700d39ef2e1a3794c8cc0adfb996 -K c4f7ca11cfcc62e719ca2d05233333e2 -in ciphertext.bin "
   ]
  },
  {
   "cell_type": "markdown",
   "metadata": {},
   "source": [
    " - What happened? The text wasn't decrypted correted, produzing some sort of letters that aren't readable. \n",
    " - Could you recover a file encrypted with CBC if the IV and the first ciphertext block were corrupted or lost? \n",
    "\n",
    " The IV is crucial for decrypting the first block of ciphertext. Each subsequent block of ciphertext depends on the correct decryption of the previous block due to the chaining mechanism. \n",
    "\n",
    "Conclusion: The loss of IV and the first block of ciphertext in CBC mode severaly impacts the recoverability of the encrypted file, especially the first and partially the second block of plaintext, the rest of the file beyond the second block can often be recovery, albeit with potencial loss of context or integrity for the overall data. "
   ]
  },
  {
   "cell_type": "markdown",
   "metadata": {},
   "source": []
  },
  {
   "cell_type": "markdown",
   "metadata": {},
   "source": [
    " - Could you recover it if during a satellite transmission one bit of the ciphertext is not delivered?\n",
    "\n",
    "If during a satellite transmission one bit of the cipher text is not delivered, this will have direct impact of the block and more extensive corruption in the sibsequent block, the rest of the data remains unaffected and can be recovered. The feasibilitiy of correcting the error depends on the data's nature, the use of error correction techniques, and the error's context. \n",
    " "
   ]
  },
  {
   "cell_type": "markdown",
   "metadata": {},
   "source": [
    " - Could you modify a byte in the middle of a CBC encrypted file without fully re-encrypting it?\n",
    "\n",
    "Modify a byte in  a ciphertext block: \n",
    "Affected block: The decryption of this block will be corrupted at the location of the modification. Since each plaintext block is produced by XORing the decrypted ciphertext blocl with the previous ciphertext block, changina byte in the cipher text will result in a corresponding chanfe in the decrypted plaintext. The next block will also be affected, but in a more unpredictable manner. The chaining mechanism means that the entire next block of plaintext wull be corrupted, not just a byte.\n",
    "\n",
    "Short Answer: no"
   ]
  },
  {
   "cell_type": "markdown",
   "metadata": {},
   "source": [
    "6 - Repeat the exercise with CTR mode. What are the differences? "
   ]
  },
  {
   "cell_type": "code",
   "execution_count": 103,
   "metadata": {},
   "outputs": [
    {
     "name": "stdout",
     "output_type": "stream",
     "text": [
      "b'0e045e3e64883debfc1c21e292e07256'\n",
      "b'8f81a232d56b4d421ffcd2fa0066fda9'\n"
     ]
    }
   ],
   "source": [
    "from os import urandom\n",
    "from binascii import hexlify\n",
    "from cryptography.hazmat.primitives.ciphers import Cipher, algorithms, modes\n",
    "key = urandom(16) #Gerar um chave random de 16 bits\n",
    "nonce = urandom(16)\n",
    "cipher = Cipher(algorithms.AES(key), modes.CBC(nonce))\n",
    "encryptor = cipher.encryptor()\n",
    "ct = encryptor.update(b\"attack at dawn!!\") + encryptor.finalize()\n",
    "print(hexlify(key))\n",
    "print(hexlify(nonce))\n",
    "cphFile = open(\"ciphertext_ctr.bin\",\"wb\")\n",
    "cphFile.write(ct)\n",
    "cphFile.close()"
   ]
  },
  {
   "cell_type": "code",
   "execution_count": 106,
   "metadata": {},
   "outputs": [
    {
     "name": "stdout",
     "output_type": "stream",
     "text": [
      "x�4�ہ]��tֹ�n\u001f�\n"
     ]
    }
   ],
   "source": [
    "!openssl enc -aes-128-ctr -d -iv 8f81a232d56b4d421ffcd2fa0066fda9 -K 0e045e3e64883debfc1c21e292e07256 -in ciphertext_ctr.bin"
   ]
  },
  {
   "cell_type": "markdown",
   "metadata": {},
   "source": [
    "Ver se existem diferencas em alterar um byte?"
   ]
  },
  {
   "cell_type": "code",
   "execution_count": 107,
   "metadata": {},
   "outputs": [
    {
     "name": "stdout",
     "output_type": "stream",
     "text": [
      "x�4�ہ]��tֹ�n\u001f�\n"
     ]
    }
   ],
   "source": [
    "!openssl enc -aes-128-ctr   -d -iv 8f81a232d56b4d421ffcd2fa0066fda9 -K 0e045e3e64883debfc1c21e292e07256 -in ciphertext_ctr.bin\n",
    "\n"
   ]
  },
  {
   "cell_type": "markdown",
   "metadata": {},
   "source": [
    "We can see that are not differences between the plaintext generateds before and after altering one byte, this happens because the CTR mode works in parallel, while the CBC mode \n",
    "works in chains. Altering one byte of the ciphertext doensn't imply the loss of massive information in the CTR mode as it means in CBC mode. "
   ]
  },
  {
   "cell_type": "markdown",
   "metadata": {},
   "source": [
    "7 - Use OpenSSL to compute the SHA-256 hash value of a file(it can be the pdf file for this Lab assign then write a Python program that recomputes the same SHA-256 for the same file)"
   ]
  },
  {
   "cell_type": "markdown",
   "metadata": {},
   "source": [
    "To generate a SHA-256 hash using OpenSSL for a file\n",
    "usamos a opcao dgst e -sha256 e depois o caminho para o ficheiro"
   ]
  },
  {
   "cell_type": "code",
   "execution_count": 110,
   "metadata": {},
   "outputs": [
    {
     "name": "stdout",
     "output_type": "stream",
     "text": [
      "SHA2-256(2-Symmetric Cryptography + Hash Functions + MACs.pdf)= f8b14260a51b0405f29ff8bb2c765a0fe92aa6f6b34f3e0c0ec56452a81cd39e\n"
     ]
    }
   ],
   "source": [
    "!openssl dgst -sha256 \"2-Symmetric Cryptography + Hash Functions + MACs.pdf\""
   ]
  },
  {
   "cell_type": "code",
   "execution_count": 3,
   "metadata": {},
   "outputs": [
    {
     "name": "stdout",
     "output_type": "stream",
     "text": [
      "f8b14260a51b0405f29ff8bb2c765a0fe92aa6f6b34f3e0c0ec56452a81cd39e\n"
     ]
    }
   ],
   "source": [
    "import hashlib\n",
    "\n",
    "openedFile = open('2-Symmetric Cryptography + Hash Functions + MACs.pdf',\"rb\")\n",
    "readFile = openedFile.read()\n",
    "hash_SHA256 = hashlib.sha256(readFile).hexdigest()\n",
    "print(hash_SHA256)\n"
   ]
  },
  {
   "cell_type": "markdown",
   "metadata": {},
   "source": [
    "8 - Use the tool available (https://alf.nu/SHA1) to construct two PDFS with the same SHA-1 value. One of the PDFS should explain how a single SHA-1 collision allows finding infinite pairs of colliding PDFs"
   ]
  },
  {
   "cell_type": "code",
   "execution_count": null,
   "metadata": {},
   "outputs": [],
   "source": []
  },
  {
   "cell_type": "code",
   "execution_count": null,
   "metadata": {},
   "outputs": [],
   "source": [
    "\n"
   ]
  }
 ],
 "metadata": {
  "kernelspec": {
   "display_name": "Python 3 (ipykernel)",
   "language": "python",
   "name": "python3"
  },
  "language_info": {
   "codemirror_mode": {
    "name": "ipython",
    "version": 3
   },
   "file_extension": ".py",
   "mimetype": "text/x-python",
   "name": "python",
   "nbconvert_exporter": "python",
   "pygments_lexer": "ipython3",
   "version": "3.12.2"
  }
 },
 "nbformat": 4,
 "nbformat_minor": 2
}
